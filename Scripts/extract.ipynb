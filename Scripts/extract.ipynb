{
 "cells": [
  {
   "cell_type": "markdown",
   "id": "c0378b31-0c8a-493e-830e-389fd3ef18ca",
   "metadata": {},
   "source": [
    "## Bibliotecas"
   ]
  },
  {
   "cell_type": "code",
   "execution_count": 2,
   "id": "e34acc55-1ee4-41f5-969c-53d60c9c5643",
   "metadata": {},
   "outputs": [],
   "source": [
    "import pandas as pd\n",
    "from google.oauth2 import service_account\n",
    "import gbq\n",
    "import pandas_gbq"
   ]
  },
  {
   "cell_type": "markdown",
   "id": "5d9a653e-da0f-4583-8aae-b610b9c9b214",
   "metadata": {},
   "source": [
    "## Extração dos dados"
   ]
  },
  {
   "cell_type": "code",
   "execution_count": 3,
   "id": "390a6ded-9e8e-4296-8845-ea87015d9175",
   "metadata": {},
   "outputs": [],
   "source": [
    "cotacoes_bolsa=pd.read_csv('https://raw.githubusercontent.com/TesteBINeoway/testeAnalistaBI/main/an_bi_senior/spreadsheets/cotacoes_bolsa.csv',sep=';')"
   ]
  },
  {
   "cell_type": "code",
   "execution_count": 4,
   "id": "f132de7c-d634-4155-9cba-17482f3c9159",
   "metadata": {},
   "outputs": [],
   "source": [
    "df_empresas=pd.read_csv('https://raw.githubusercontent.com/TesteBINeoway/testeAnalistaBI/main/an_bi_senior/spreadsheets/df_empresas.csv',sep=';')"
   ]
  },
  {
   "cell_type": "code",
   "execution_count": 5,
   "id": "ac73c38a-62fa-4f08-8691-2642e74b1462",
   "metadata": {},
   "outputs": [],
   "source": [
    "empresas_bolsa=pd.read_csv('https://raw.githubusercontent.com/TesteBINeoway/testeAnalistaBI/main/an_bi_senior/spreadsheets/empresas_bolsa.csv',sep=';')"
   ]
  },
  {
   "cell_type": "code",
   "execution_count": 6,
   "id": "93ecb13b-b891-48ce-9975-31bf651ca321",
   "metadata": {},
   "outputs": [],
   "source": [
    "empresas_nivel_atividade=pd.read_csv('https://raw.githubusercontent.com/TesteBINeoway/testeAnalistaBI/main/an_bi_senior/spreadsheets/empresas_nivel_atividade.csv',sep=';')"
   ]
  },
  {
   "cell_type": "code",
   "execution_count": 7,
   "id": "241fcac0-8026-4ee7-ae54-164b5132ea39",
   "metadata": {},
   "outputs": [],
   "source": [
    "empresas_porte=pd.read_csv('https://raw.githubusercontent.com/TesteBINeoway/testeAnalistaBI/main/an_bi_senior/spreadsheets/empresas_porte.csv',sep=';')"
   ]
  },
  {
   "cell_type": "code",
   "execution_count": 8,
   "id": "e0db3a05-523f-46c6-a13d-8987815ccce8",
   "metadata": {},
   "outputs": [],
   "source": [
    "empresas_saude_tributaria=pd.read_csv('https://raw.githubusercontent.com/TesteBINeoway/testeAnalistaBI/main/an_bi_senior/spreadsheets/empresas_saude_tributaria.csv',sep=';')"
   ]
  },
  {
   "cell_type": "code",
   "execution_count": 9,
   "id": "1423cc1e-34ff-4059-bdd0-b8fc688a2282",
   "metadata": {},
   "outputs": [],
   "source": [
    "empresas_simples=pd.read_csv('https://raw.githubusercontent.com/TesteBINeoway/testeAnalistaBI/main/an_bi_senior/spreadsheets/empresas_simples.csv',sep=';')"
   ]
  },
  {
   "cell_type": "markdown",
   "id": "39ea5a50-5576-41da-a53d-5d5f0accc84b",
   "metadata": {},
   "source": [
    "## Ajuste no tipo de dado da tabela empresas_simples"
   ]
  },
  {
   "cell_type": "code",
   "execution_count": 10,
   "id": "cc895df1-9d14-4ee3-884c-cacd7389d5fb",
   "metadata": {},
   "outputs": [],
   "source": [
    "empresas_simples=empresas_simples.astype(str)"
   ]
  },
  {
   "cell_type": "markdown",
   "id": "271a5b63-c3aa-443a-b56f-34f57564382d",
   "metadata": {},
   "source": [
    "## Ajuste no nome da coluna da tabela df_empresa"
   ]
  },
  {
   "cell_type": "code",
   "execution_count": 12,
   "id": "72f1e39a-cd60-4bbb-9674-fa75d83948c2",
   "metadata": {},
   "outputs": [
    {
     "name": "stderr",
     "output_type": "stream",
     "text": [
      "C:\\Users\\014176631\\AppData\\Local\\Temp\\ipykernel_23788\\1315530416.py:1: FutureWarning: The default value of regex will change from True to False in a future version. In addition, single character regular expressions will *not* be treated as literal strings when regex=True.\n",
      "  df_empresas.columns=df_empresas.columns.str.replace('.','_')\n"
     ]
    }
   ],
   "source": [
    "df_empresas.columns=df_empresas.columns.str.replace('.','_')"
   ]
  },
  {
   "cell_type": "markdown",
   "id": "22a21e94-b729-4654-aadb-a178319dd451",
   "metadata": {},
   "source": [
    "## Carregamento Raw"
   ]
  },
  {
   "cell_type": "code",
   "execution_count": 17,
   "id": "619b4fdf-f8d5-4424-a0d6-05dc208cd7b4",
   "metadata": {},
   "outputs": [],
   "source": [
    "credentials=service_account.Credentials.from_service_account_file(filename='GBQ.json',scopes=[\"https://www.googleapis.com/auth/cloud-platform\"])"
   ]
  },
  {
   "cell_type": "code",
   "execution_count": 18,
   "id": "5e4755ef-f04b-4f79-ad32-33a9c17b393a",
   "metadata": {},
   "outputs": [],
   "source": [
    "cotacoes_bolsa.to_gbq(credentials=credentials, destination_table='teste_neoway.raw_cotacoes_bolsa', if_exists='replace')"
   ]
  },
  {
   "cell_type": "code",
   "execution_count": 20,
   "id": "651fb86c-4962-4e12-88ff-77f565441d87",
   "metadata": {},
   "outputs": [],
   "source": [
    "df_empresas.to_gbq(credentials=credentials, destination_table='teste_neoway.raw_df_empresas', if_exists='replace')"
   ]
  },
  {
   "cell_type": "code",
   "execution_count": 21,
   "id": "9ccc2ba0-cd6d-4698-9828-2dcab96b4aa5",
   "metadata": {},
   "outputs": [],
   "source": [
    "empresas_bolsa.to_gbq(credentials=credentials, destination_table='teste_neoway.raw_empresas_bolsa', if_exists='replace')"
   ]
  },
  {
   "cell_type": "code",
   "execution_count": 22,
   "id": "c1ee160b-1851-4f2c-924d-c4bf77c3e610",
   "metadata": {},
   "outputs": [],
   "source": [
    "empresas_nivel_atividade.to_gbq(credentials=credentials, destination_table='teste_neoway.raw_empresas_nivel_atividade', if_exists='replace')"
   ]
  },
  {
   "cell_type": "code",
   "execution_count": 23,
   "id": "5bbe032a-ee41-43b7-a4b0-a8572efcbf95",
   "metadata": {},
   "outputs": [],
   "source": [
    "empresas_porte.to_gbq(credentials=credentials, destination_table='teste_neoway.raw_empresas_porte', if_exists='replace')"
   ]
  },
  {
   "cell_type": "code",
   "execution_count": 24,
   "id": "a38f9f1e-25e1-4dc5-89dc-6b9ffed75a27",
   "metadata": {},
   "outputs": [],
   "source": [
    "empresas_saude_tributaria.to_gbq(credentials=credentials, destination_table='teste_neoway.raw_empresas_saude_tributaria', if_exists='replace')"
   ]
  },
  {
   "cell_type": "code",
   "execution_count": 25,
   "id": "5fb9fed1-4998-477a-9ab8-baeb6e470be3",
   "metadata": {},
   "outputs": [],
   "source": [
    "empresas_simples.to_gbq(credentials=credentials, destination_table='teste_neoway.raw_empresas_simples', if_exists='replace')"
   ]
  }
 ],
 "metadata": {
  "kernelspec": {
   "display_name": "Python 3 (ipykernel)",
   "language": "python",
   "name": "python3"
  },
  "language_info": {
   "codemirror_mode": {
    "name": "ipython",
    "version": 3
   },
   "file_extension": ".py",
   "mimetype": "text/x-python",
   "name": "python",
   "nbconvert_exporter": "python",
   "pygments_lexer": "ipython3",
   "version": "3.10.8"
  }
 },
 "nbformat": 4,
 "nbformat_minor": 5
}
