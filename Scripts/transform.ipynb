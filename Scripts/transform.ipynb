{
 "cells": [
  {
   "cell_type": "markdown",
   "id": "04e00a2b-8645-4ce0-a01f-fa2e31a70ddf",
   "metadata": {},
   "source": [
    "## Bibliotecas"
   ]
  },
  {
   "cell_type": "code",
   "execution_count": 190,
   "id": "13e23300-c348-4410-9275-f2397be8c35d",
   "metadata": {},
   "outputs": [],
   "source": [
    "import pandas as pd\n",
    "from google.oauth2 import service_account\n",
    "import gbq\n",
    "import pandas_gbq"
   ]
  },
  {
   "cell_type": "markdown",
   "id": "72a404ac-8e54-493c-b00b-3e35b5a61476",
   "metadata": {},
   "source": [
    "## Modelagem dos Dados"
   ]
  },
  {
   "cell_type": "code",
   "execution_count": 191,
   "id": "27764b52-7378-40a7-81ec-141e4d0bab2c",
   "metadata": {},
   "outputs": [
    {
     "name": "stderr",
     "output_type": "stream",
     "text": [
      "C:\\Users\\014176631\\AppData\\Local\\Temp\\ipykernel_15140\\1315530416.py:1: FutureWarning: The default value of regex will change from True to False in a future version. In addition, single character regular expressions will *not* be treated as literal strings when regex=True.\n",
      "  df_empresas.columns=df_empresas.columns.str.replace('.','_')\n"
     ]
    }
   ],
   "source": [
    "%run \"extract.ipynb\""
   ]
  },
  {
   "cell_type": "markdown",
   "id": "eaf3099b-9f55-40f7-8704-99a4cabd4141",
   "metadata": {},
   "source": [
    "## Transformação de Dados"
   ]
  },
  {
   "cell_type": "markdown",
   "id": "27327ae2-93cf-4474-b4f3-21db495421bb",
   "metadata": {},
   "source": [
    "## Remoção de colunas vazias ou com valor repetido"
   ]
  },
  {
   "cell_type": "code",
   "execution_count": 192,
   "id": "0eb39c59-3dbb-43bc-8156-bc2900c25511",
   "metadata": {},
   "outputs": [],
   "source": [
    "cotacoes_bolsa.drop(columns=['tp_reg','prazot','moeda_ref','in_opc','vl_exec_moeda_corrente'], inplace=True)"
   ]
  },
  {
   "cell_type": "code",
   "execution_count": 193,
   "id": "18e9ba4f-8101-42dd-8393-603a40984cb6",
   "metadata": {},
   "outputs": [],
   "source": [
    "empresas_bolsa.drop(columns=['nm_segmento_b3'], inplace=True)"
   ]
  },
  {
   "cell_type": "markdown",
   "id": "60f86109-3d36-4ae5-a793-c1c1e734b334",
   "metadata": {},
   "source": [
    "## Conversão de datas"
   ]
  },
  {
   "cell_type": "code",
   "execution_count": 194,
   "id": "70e02def-0d5e-4cbe-8ee4-4320d46e9976",
   "metadata": {},
   "outputs": [],
   "source": [
    "cotacoes_bolsa['dt_pregao']=cotacoes_bolsa['dt_pregao'].astype(str)"
   ]
  },
  {
   "cell_type": "code",
   "execution_count": 195,
   "id": "d9e14250-f660-42f4-96aa-ea9882e0f03c",
   "metadata": {},
   "outputs": [],
   "source": [
    "cotacoes_bolsa['dt_vnct_opc']=cotacoes_bolsa['dt_vnct_opc'].astype(str)"
   ]
  },
  {
   "cell_type": "code",
   "execution_count": 196,
   "id": "66ffa6fe-d903-4df3-a6dc-0d746b896c3d",
   "metadata": {},
   "outputs": [],
   "source": [
    "cotacoes_bolsa['dt_vnct_opc']=cotacoes_bolsa['dt_vnct_opc'].str.replace('99991231','20501231')"
   ]
  },
  {
   "cell_type": "code",
   "execution_count": 197,
   "id": "bd598171-9cb8-4a8d-9505-2a2a68205aae",
   "metadata": {},
   "outputs": [],
   "source": [
    "cotacoes_bolsa['dt_pregao']=pd.to_datetime(cotacoes_bolsa['dt_pregao'], format='%Y%m%d')"
   ]
  },
  {
   "cell_type": "code",
   "execution_count": 198,
   "id": "0b1716a9-b07f-4b0c-a1d6-b5f0b335be8e",
   "metadata": {},
   "outputs": [],
   "source": [
    "cotacoes_bolsa['dt_vnct_opc']=pd.to_datetime(cotacoes_bolsa['dt_vnct_opc'], format='%Y%m%d')"
   ]
  },
  {
   "cell_type": "code",
   "execution_count": 199,
   "id": "aca767f5-bb25-4f32-8224-2940fc6e94f6",
   "metadata": {},
   "outputs": [],
   "source": [
    "empresas_simples['optante_simples']=empresas_simples['optante_simples'].str.replace('True','1')"
   ]
  },
  {
   "cell_type": "code",
   "execution_count": 200,
   "id": "287518fa-3847-46c6-b8df-88d350eef574",
   "metadata": {},
   "outputs": [],
   "source": [
    "empresas_simples['optante_simples']=empresas_simples['optante_simples'].str.replace('False','0')"
   ]
  },
  {
   "cell_type": "code",
   "execution_count": 201,
   "id": "698079ca-4d99-4f40-a7d0-8bd02c5e5b7b",
   "metadata": {},
   "outputs": [],
   "source": [
    "empresas_simples['optante_simei']=empresas_simples['optante_simei'].str.replace('True','1')"
   ]
  },
  {
   "cell_type": "code",
   "execution_count": 202,
   "id": "73f4f1bb-21ab-45c4-b7c8-3d48550c2085",
   "metadata": {},
   "outputs": [],
   "source": [
    "empresas_simples['optante_simei']=empresas_simples['optante_simei'].str.replace('False','0')"
   ]
  },
  {
   "cell_type": "code",
   "execution_count": 203,
   "id": "fec6d61c-f464-4963-81a6-b4fd235acad8",
   "metadata": {},
   "outputs": [],
   "source": [
    "df_empresas['matriz_empresaMatriz']=df_empresas['matriz_empresaMatriz'].astype(str)"
   ]
  },
  {
   "cell_type": "code",
   "execution_count": 204,
   "id": "47e1b6d0-d3d9-4fe6-bbd7-9b6e6f6aebda",
   "metadata": {},
   "outputs": [],
   "source": [
    "df_empresas['matriz_empresaMatriz']=df_empresas['matriz_empresaMatriz'].str.replace('True','1')"
   ]
  },
  {
   "cell_type": "code",
   "execution_count": 205,
   "id": "2f187c22-e7fa-4f0b-b679-ef41ad78dcf2",
   "metadata": {},
   "outputs": [],
   "source": [
    "df_empresas['matriz_empresaMatriz']=df_empresas['matriz_empresaMatriz'].str.replace('False','0')"
   ]
  },
  {
   "cell_type": "markdown",
   "id": "867d8b44-038b-41bf-a8db-8e2e7a8927f6",
   "metadata": {},
   "source": [
    "## Carregamento Trusted"
   ]
  },
  {
   "cell_type": "code",
   "execution_count": 206,
   "id": "4773511a-64cd-4c06-ac32-10d1b2bbae95",
   "metadata": {},
   "outputs": [],
   "source": [
    "credentials=service_account.Credentials.from_service_account_file(filename='GBQ.json',scopes=[\"https://www.googleapis.com/auth/cloud-platform\"])"
   ]
  },
  {
   "cell_type": "code",
   "execution_count": 207,
   "id": "f49bb31b-1082-45b9-8acc-dcd7c5487fb7",
   "metadata": {},
   "outputs": [],
   "source": [
    "cotacoes_bolsa.to_gbq(credentials=credentials, destination_table='teste_neoway.trusted_cotacoes_bolsa', if_exists='replace')                                 \n",
    "                     \n"
   ]
  },
  {
   "cell_type": "code",
   "execution_count": 208,
   "id": "27b55def-ddb3-441e-ad48-b3767414e68c",
   "metadata": {},
   "outputs": [],
   "source": [
    "df_empresas.to_gbq(credentials=credentials, destination_table='teste_neoway.trusted_df_empresas', if_exists='replace')"
   ]
  },
  {
   "cell_type": "code",
   "execution_count": 209,
   "id": "597c8310-74bf-4b33-8a3d-e3fe08bed46b",
   "metadata": {},
   "outputs": [],
   "source": [
    "empresas_bolsa.to_gbq(credentials=credentials, destination_table='teste_neoway.trusted_empresas_bolsa', if_exists='replace')"
   ]
  },
  {
   "cell_type": "code",
   "execution_count": 210,
   "id": "a12aa783-e7db-48f2-a767-9be117336891",
   "metadata": {},
   "outputs": [],
   "source": [
    "empresas_nivel_atividade.to_gbq(credentials=credentials, destination_table='teste_neoway.trusted_empresas_nivel_atividade', if_exists='replace')"
   ]
  },
  {
   "cell_type": "code",
   "execution_count": 211,
   "id": "48012f7b-5f70-41cb-9d3a-aee9ba9b4dda",
   "metadata": {},
   "outputs": [],
   "source": [
    "empresas_porte.to_gbq(credentials=credentials, destination_table='teste_neoway.trusted_empresas_porte', if_exists='replace')"
   ]
  },
  {
   "cell_type": "code",
   "execution_count": 212,
   "id": "36b1986a-9fe1-4bb4-8ec5-124cfdb6fdbe",
   "metadata": {},
   "outputs": [],
   "source": [
    "empresas_saude_tributaria.to_gbq(credentials=credentials, destination_table='teste_neoway.trusted_empresas_saude_tributaria', if_exists='replace')"
   ]
  },
  {
   "cell_type": "code",
   "execution_count": 213,
   "id": "6050f5fc-626a-4589-af9a-0528399a1201",
   "metadata": {},
   "outputs": [],
   "source": [
    "empresas_simples.to_gbq(credentials=credentials, destination_table='teste_neoway.trusted_empresas_simples', if_exists='replace')"
   ]
  }
 ],
 "metadata": {
  "kernelspec": {
   "display_name": "Python 3 (ipykernel)",
   "language": "python",
   "name": "python3"
  },
  "language_info": {
   "codemirror_mode": {
    "name": "ipython",
    "version": 3
   },
   "file_extension": ".py",
   "mimetype": "text/x-python",
   "name": "python",
   "nbconvert_exporter": "python",
   "pygments_lexer": "ipython3",
   "version": "3.10.8"
  }
 },
 "nbformat": 4,
 "nbformat_minor": 5
}
