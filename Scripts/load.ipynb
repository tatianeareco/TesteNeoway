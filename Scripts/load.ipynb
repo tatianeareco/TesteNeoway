{
 "cells": [
  {
   "cell_type": "markdown",
   "id": "93683875-9392-4b94-90d1-2a1f7a5819fd",
   "metadata": {},
   "source": [
    "## Modelagem dos Dados"
   ]
  },
  {
   "cell_type": "code",
   "execution_count": 2,
   "id": "aa798b69-404d-4fa6-bbb1-e178791528ca",
   "metadata": {},
   "outputs": [
    {
     "name": "stderr",
     "output_type": "stream",
     "text": [
      "C:\\Users\\014176631\\AppData\\Local\\Temp\\ipykernel_19124\\1315530416.py:1: FutureWarning: The default value of regex will change from True to False in a future version. In addition, single character regular expressions will *not* be treated as literal strings when regex=True.\n",
      "  df_empresas.columns=df_empresas.columns.str.replace('.','_')\n"
     ]
    }
   ],
   "source": [
    "%run \"transform.ipynb\""
   ]
  },
  {
   "cell_type": "code",
   "execution_count": 3,
   "id": "784336de-2317-4638-b92a-afc005ad985f",
   "metadata": {},
   "outputs": [],
   "source": [
    "df_empresas = df_empresas.merge(empresas_nivel_atividade,left_on='cnpj',right_on='cnpj',how='left')"
   ]
  },
  {
   "cell_type": "code",
   "execution_count": 4,
   "id": "5496a409-0388-4006-9084-d8e812acb401",
   "metadata": {},
   "outputs": [],
   "source": [
    "df_empresas = df_empresas.merge(empresas_porte,left_on='cnpj',right_on='cnpj',how='left')"
   ]
  },
  {
   "cell_type": "code",
   "execution_count": 5,
   "id": "2364e484-35df-446f-8e66-8dec63650193",
   "metadata": {},
   "outputs": [],
   "source": [
    "df_empresas = df_empresas.merge(empresas_saude_tributaria,left_on='cnpj',right_on='cnpj',how='left')"
   ]
  },
  {
   "cell_type": "code",
   "execution_count": 6,
   "id": "c63bd899-bb3c-411a-8fed-9ad1e5747ae5",
   "metadata": {},
   "outputs": [],
   "source": [
    "df_empresas_str=df_empresas"
   ]
  },
  {
   "cell_type": "code",
   "execution_count": 7,
   "id": "ed86ac4f-b95c-47f2-8f31-3159dee4beab",
   "metadata": {},
   "outputs": [],
   "source": [
    "df_empresas_str['cnpj']=df_empresas_str['cnpj'].astype(str)"
   ]
  },
  {
   "cell_type": "code",
   "execution_count": 8,
   "id": "5ec1528a-c2f0-4b6c-9567-55bed771357c",
   "metadata": {},
   "outputs": [],
   "source": [
    "df_empresas = df_empresas_str.merge(empresas_simples,left_on='cnpj',right_on='cnpj',how='left')"
   ]
  },
  {
   "cell_type": "markdown",
   "id": "bcde82ce-5b29-4da9-8116-619cfeee2e92",
   "metadata": {},
   "source": [
    "## Carregamento Refined"
   ]
  },
  {
   "cell_type": "code",
   "execution_count": 11,
   "id": "f852c12e-84b9-4af8-b094-3df7cdb14602",
   "metadata": {},
   "outputs": [],
   "source": [
    "cotacoes_bolsa.to_gbq(credentials=credentials, destination_table='teste_neoway.refined_cotacoes_bolsa', if_exists='replace')"
   ]
  },
  {
   "cell_type": "code",
   "execution_count": 12,
   "id": "65ce34cd-e79f-42a2-9535-85ecff7c3e6b",
   "metadata": {},
   "outputs": [],
   "source": [
    "df_empresas.to_gbq(credentials=credentials, destination_table='teste_neoway.refined_df_empresas', if_exists='replace')"
   ]
  },
  {
   "cell_type": "code",
   "execution_count": 13,
   "id": "f713521b-1cf4-4b9f-ad3c-9ea17a4382bf",
   "metadata": {},
   "outputs": [],
   "source": [
    "empresas_bolsa.to_gbq(credentials=credentials, destination_table='teste_neoway.refined_empresas_bolsa', if_exists='replace')"
   ]
  },
  {
   "cell_type": "markdown",
   "id": "74880084-71ea-4ad0-8d34-3ee9925fe776",
   "metadata": {},
   "source": [
    "## Geração CSV"
   ]
  },
  {
   "cell_type": "code",
   "execution_count": 23,
   "id": "a32142c3-bca5-4f26-b7b7-c49c2b60d6e9",
   "metadata": {},
   "outputs": [],
   "source": [
    "cotacoes_bolsa.to_excel('refined_cotacoes_bolsa.xlsx')"
   ]
  },
  {
   "cell_type": "code",
   "execution_count": 25,
   "id": "8b824d85-592e-4e10-aaf8-624ae1292650",
   "metadata": {},
   "outputs": [],
   "source": [
    "df_empresas.to_excel('refined_df_empresas.xlsx')"
   ]
  },
  {
   "cell_type": "code",
   "execution_count": 26,
   "id": "d87abf45-a8d4-4652-8b16-6a1dcabdcc82",
   "metadata": {},
   "outputs": [],
   "source": [
    "empresas_bolsa.to_excel('refined_empresas_bolsa.xlsx')"
   ]
  }
 ],
 "metadata": {
  "kernelspec": {
   "display_name": "Python 3 (ipykernel)",
   "language": "python",
   "name": "python3"
  },
  "language_info": {
   "codemirror_mode": {
    "name": "ipython",
    "version": 3
   },
   "file_extension": ".py",
   "mimetype": "text/x-python",
   "name": "python",
   "nbconvert_exporter": "python",
   "pygments_lexer": "ipython3",
   "version": "3.10.8"
  }
 },
 "nbformat": 4,
 "nbformat_minor": 5
}
